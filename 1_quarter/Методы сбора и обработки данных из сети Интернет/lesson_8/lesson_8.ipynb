{
 "cells": [
  {
   "cell_type": "code",
   "execution_count": 59,
   "metadata": {},
   "outputs": [],
   "source": [
    "import pandas as pd\n",
    "import matplotlib.pyplot as plt"
   ]
  },
  {
   "cell_type": "code",
   "execution_count": 60,
   "metadata": {
    "scrolled": true
   },
   "outputs": [
    {
     "data": {
      "text/html": [
       "<div>\n",
       "<style scoped>\n",
       "    .dataframe tbody tr th:only-of-type {\n",
       "        vertical-align: middle;\n",
       "    }\n",
       "\n",
       "    .dataframe tbody tr th {\n",
       "        vertical-align: top;\n",
       "    }\n",
       "\n",
       "    .dataframe thead th {\n",
       "        text-align: right;\n",
       "    }\n",
       "</style>\n",
       "<table border=\"1\" class=\"dataframe\">\n",
       "  <thead>\n",
       "    <tr style=\"text-align: right;\">\n",
       "      <th></th>\n",
       "      <th>name</th>\n",
       "      <th>region</th>\n",
       "      <th>date</th>\n",
       "      <th>value</th>\n",
       "    </tr>\n",
       "  </thead>\n",
       "  <tbody>\n",
       "    <tr>\n",
       "      <th>0</th>\n",
       "      <td>Количество заявок на потребительские кредиты</td>\n",
       "      <td>Россия</td>\n",
       "      <td>2013-01-15</td>\n",
       "      <td>571147</td>\n",
       "    </tr>\n",
       "    <tr>\n",
       "      <th>1</th>\n",
       "      <td>Количество заявок на потребительские кредиты</td>\n",
       "      <td>Россия</td>\n",
       "      <td>2013-02-15</td>\n",
       "      <td>504508</td>\n",
       "    </tr>\n",
       "    <tr>\n",
       "      <th>2</th>\n",
       "      <td>Количество заявок на потребительские кредиты</td>\n",
       "      <td>Россия</td>\n",
       "      <td>2013-03-15</td>\n",
       "      <td>628803</td>\n",
       "    </tr>\n",
       "    <tr>\n",
       "      <th>3</th>\n",
       "      <td>Количество заявок на потребительские кредиты</td>\n",
       "      <td>Россия</td>\n",
       "      <td>2013-04-15</td>\n",
       "      <td>836054</td>\n",
       "    </tr>\n",
       "    <tr>\n",
       "      <th>4</th>\n",
       "      <td>Количество заявок на потребительские кредиты</td>\n",
       "      <td>Россия</td>\n",
       "      <td>2013-05-15</td>\n",
       "      <td>867235</td>\n",
       "    </tr>\n",
       "    <tr>\n",
       "      <th>5</th>\n",
       "      <td>Количество заявок на потребительские кредиты</td>\n",
       "      <td>Россия</td>\n",
       "      <td>2013-06-15</td>\n",
       "      <td>768036</td>\n",
       "    </tr>\n",
       "    <tr>\n",
       "      <th>6</th>\n",
       "      <td>Количество заявок на потребительские кредиты</td>\n",
       "      <td>Россия</td>\n",
       "      <td>2013-07-15</td>\n",
       "      <td>912096</td>\n",
       "    </tr>\n",
       "    <tr>\n",
       "      <th>7</th>\n",
       "      <td>Количество заявок на потребительские кредиты</td>\n",
       "      <td>Россия</td>\n",
       "      <td>2013-08-15</td>\n",
       "      <td>911461</td>\n",
       "    </tr>\n",
       "    <tr>\n",
       "      <th>8</th>\n",
       "      <td>Количество заявок на потребительские кредиты</td>\n",
       "      <td>Россия</td>\n",
       "      <td>2013-09-15</td>\n",
       "      <td>856974</td>\n",
       "    </tr>\n",
       "    <tr>\n",
       "      <th>9</th>\n",
       "      <td>Количество заявок на потребительские кредиты</td>\n",
       "      <td>Россия</td>\n",
       "      <td>2013-10-15</td>\n",
       "      <td>977855</td>\n",
       "    </tr>\n",
       "  </tbody>\n",
       "</table>\n",
       "</div>"
      ],
      "text/plain": [
       "                                           name  region        date   value\n",
       "0  Количество заявок на потребительские кредиты  Россия  2013-01-15  571147\n",
       "1  Количество заявок на потребительские кредиты  Россия  2013-02-15  504508\n",
       "2  Количество заявок на потребительские кредиты  Россия  2013-03-15  628803\n",
       "3  Количество заявок на потребительские кредиты  Россия  2013-04-15  836054\n",
       "4  Количество заявок на потребительские кредиты  Россия  2013-05-15  867235\n",
       "5  Количество заявок на потребительские кредиты  Россия  2013-06-15  768036\n",
       "6  Количество заявок на потребительские кредиты  Россия  2013-07-15  912096\n",
       "7  Количество заявок на потребительские кредиты  Россия  2013-08-15  911461\n",
       "8  Количество заявок на потребительские кредиты  Россия  2013-09-15  856974\n",
       "9  Количество заявок на потребительские кредиты  Россия  2013-10-15  977855"
      ]
     },
     "execution_count": 60,
     "metadata": {},
     "output_type": "execute_result"
    }
   ],
   "source": [
    "#Загружаем эти данные в датафрейм, и подбираем кодировку\n",
    "df = pd.read_csv('sb.csv', encoding='cp1251')\n",
    "df.head(10)"
   ]
  },
  {
   "cell_type": "code",
   "execution_count": 61,
   "metadata": {
    "scrolled": false
   },
   "outputs": [
    {
     "name": "stdout",
     "output_type": "stream",
     "text": [
      "['Количество заявок на потребительские кредиты'\n",
      " 'Средняя сумма заявки на потребительский кредит'\n",
      " 'Количество заявок на ипотечные кредиты'\n",
      " 'Средняя сумма заявки на ипотечный кредит' 'Количество новых депозитов'\n",
      " 'Средняя сумма нового депозита' 'Средняя зарплата' 'Средняя пенсия'\n",
      " 'В среднем руб. на текущем счете на человека'\n",
      " 'В среднем депозитов в руб. на человека' 'Средние расходы по картам'\n",
      " 'Средний чек в формате Фастфуд' 'Средний чек в формате Ресторан'\n",
      " 'Средние траты в ресторане фастфуд' 'Средние траты в ресторане']\n",
      "['Россия' 'Алтайский край' 'Амурская область' 'Архангельская область'\n",
      " 'Астраханская область' 'Белгородская область' 'Брянская область'\n",
      " 'Владимирская область' 'Волгоградская область' 'Вологодская область'\n",
      " 'Воронежская область' 'Еврейская автономная область' 'Забайкальский край'\n",
      " 'Ивановская область' 'Иркутская область'\n",
      " 'Кабардино-Балкарская Республика' 'Калининградская область'\n",
      " 'Калужская область' 'Камчатский край' 'Кемеровская область'\n",
      " 'Кировская область' 'Костромская область' 'Краснодарский край'\n",
      " 'Красноярский край' 'Курганская область' 'Курская область'\n",
      " 'Ленинградская область' 'Липецкая область' 'Магаданская область' 'Москва'\n",
      " 'Московская область' 'Мурманская область' 'Ненецкий автономный округ'\n",
      " 'Нижегородская область' 'Новгородская область' 'Новосибирская область'\n",
      " 'Омская область' 'Оренбургская область' 'Орловская область'\n",
      " 'Пензенская область' 'Пермский край' 'Приморский край'\n",
      " 'Псковская область' 'Республика Адыгея' 'Республика Алтай (Горный Алтай)'\n",
      " 'Республика Башкортостан' 'Республика Бурятия' 'Республика Дагестан'\n",
      " 'Республика Ингушетия' 'Республика Калмыкия'\n",
      " 'Республика Карачаево-Черкессия' 'Республика Карелия' 'Республика Коми'\n",
      " 'Республика Марий Эл' 'Республика Мордовия' 'Республика Саха (Якутия)'\n",
      " 'Республика Северная Осетия-Алания' 'Республика Татарстан'\n",
      " 'Республика Тыва' 'Республика Хакасия' 'Ростовская область'\n",
      " 'Рязанская область' 'Самарская область' 'Санкт-Петербург'\n",
      " 'Саратовская область' 'Сахалинская область' 'Свердловская область'\n",
      " 'Смоленская область' 'Ставропольский край' 'Тамбовская область'\n",
      " 'Тверская область' 'Томская область' 'Тульская область'\n",
      " 'Тюменская область' 'Удмуртская Республика' 'Ульяновская область'\n",
      " 'Хабаровский край' 'Ханты-Мансийский автономный округ — Югра'\n",
      " 'Челябинская область' 'Чеченская Республика' 'Чувашская Республика'\n",
      " 'Чукотский автономный округ' 'Ямало-Ненецкий автономный округ'\n",
      " 'Ярославская область']\n"
     ]
    }
   ],
   "source": [
    "#Выводим в интерфейс значения по разрезам учета\n",
    "res = df[\"name\"].unique()\n",
    "reg = df[\"region\"].unique()\n",
    "print(res)\n",
    "print(reg)"
   ]
  },
  {
   "cell_type": "code",
   "execution_count": 62,
   "metadata": {},
   "outputs": [],
   "source": [
    "#Функция получения фильтрованного датафрейма\n",
    "def get_new_df(**arg):\n",
    "    global df\n",
    "    ret = df\n",
    "    for k,v in arg.items():\n",
    "        if 'datemin' in k:\n",
    "            k = k.replace('min','')\n",
    "            ret = ret[ret[k]>=v]\n",
    "        elif 'datemax' in k:\n",
    "            k = k.replace('max','')\n",
    "            ret = ret[ret[k]<=v]\n",
    "        else:    \n",
    "            ret = ret[ret[k]==v]\n",
    "    return ret"
   ]
  },
  {
   "cell_type": "code",
   "execution_count": 73,
   "metadata": {},
   "outputs": [
    {
     "data": {
      "image/png": "[encoded data removed]",
      "text/plain": [
       "<Figure size 1152x576 with 1 Axes>"
      ]
     },
     "metadata": {
      "needs_background": "light"
     },
     "output_type": "display_data"
    }
   ],
   "source": [
    "#Выводим график\n",
    "new_df = get_new_df(name='Средняя сумма заявки на ипотечный кредит', \n",
    "           region = 'Ростовская область',\n",
    "          datemin = '2013-05-15',\n",
    "          datemax = '2013-12-20')\n",
    "\n",
    "X = new_df['date']\n",
    "y = new_df['value']\n",
    "\n",
    "plt.figure(figsize = (16, 8))\n",
    "plt.title(new_df['name'].iloc[0])\n",
    "plt.plot(X,y)\n",
    "plt.show()"
   ]
  },
  {
   "cell_type": "code",
   "execution_count": null,
   "metadata": {},
   "outputs": [],
   "source": []
  }
 ],
 "metadata": {
  "kernelspec": {
   "display_name": "Python 3",
   "language": "python",
   "name": "python3"
  },
  "language_info": {
   "codemirror_mode": {
    "name": "ipython",
    "version": 3
   },
   "file_extension": ".py",
   "mimetype": "text/x-python",
   "name": "python",
   "nbconvert_exporter": "python",
   "pygments_lexer": "ipython3",
   "version": "3.7.3"
  }
 },
 "nbformat": 4,
 "nbformat_minor": 2
}
