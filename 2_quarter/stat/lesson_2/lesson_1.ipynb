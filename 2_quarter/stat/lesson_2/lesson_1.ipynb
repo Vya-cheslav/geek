{
 "cells": [
  {
   "cell_type": "markdown",
   "metadata": {},
   "source": [
    "#Введение в матанализ"
   ]
  },
  {
   "cell_type": "code",
   "execution_count": 24,
   "metadata": {},
   "outputs": [
    {
     "data": {
      "text/html": [
       "<iframe width=\"310\" height=\"300\" src=\"img71.JPG\" seamless></iframe>\n",
       "<li>Для любого \"у\" из отрезка от нуля до 1, функция sgn от y равна 1;</li>\n",
       "<li>Для любого натурального больше 2, найдутся x,y,z для которых справедливо равенство х в степени n и сумма y и z в степени n;</li>\n",
       "<li>Для любого действительного x найдется дествительное Х больше чем х;</li>\n",
       "<li>Для любого комплексного х не существует комплексного у, такого что б был больше или меньше х;</li>\n",
       "<li>Для любого у на отрезке от нуля до пи/2 существует эпсилон больше нуля такое что sin y > sin (y + \"эпсилон\");</li>\n",
       "<li>Для любого у на полуинтервале от нуля до пи существует эпсилон больше нуля такое что cos y > cos (y + \"эпсилон\");</li>\n",
       "<li>Существует х не являющийся натруральным , целым, рациональным, действительным или комплексным числом;</li>\n"
      ],
      "text/plain": [
       "<IPython.core.display.HTML object>"
      ]
     },
     "metadata": {},
     "output_type": "display_data"
    }
   ],
   "source": [
    "%%HTML\n",
    "<iframe width=\"310\" height=\"300\" src=\"img71.JPG\" seamless></iframe>\n",
    "<li>Для любого \"у\" из отрезка от нуля до 1, функция sgn от y равна 1;</li>\n",
    "<li>Для любого натурального больше 2, найдутся x,y,z для которых справедливо равенство х в степени n и сумма y и z в степени n;</li>\n",
    "<li>Для любого действительного x найдется дествительное Х больше чем х;</li>\n",
    "<li>Для любого комплексного х не существует комплексного у, такого что б был больше или меньше х;</li>\n",
    "<li>Для любого у на отрезке от нуля до пи/2 существует эпсилон больше нуля такое что sin y > sin (y + \"эпсилон\");</li>\n",
    "<li>Для любого у на полуинтервале от нуля до пи существует эпсилон больше нуля такое что cos y > cos (y + \"эпсилон\");</li>\n",
    "<li>Существует х не являющийся натруральным , целым, рациональным, действительным или комплексным числом;</li>"
   ]
  },
  {
   "cell_type": "markdown",
   "metadata": {},
   "source": [
    "#Множества\n",
    "\n",
    "\n",
    "\n"
   ]
  },
  {
   "cell_type": "code",
   "execution_count": 19,
   "metadata": {},
   "outputs": [],
   "source": [
    "a = set('12344566')\n",
    "b = set ('56789')"
   ]
  },
  {
   "cell_type": "code",
   "execution_count": 15,
   "metadata": {},
   "outputs": [
    {
     "name": "stdout",
     "output_type": "stream",
     "text": [
      "{'7', '8', '6', '1', '3', '4', '9', '2', '5'}\n"
     ]
    }
   ],
   "source": [
    "#ИЛИ - полученный набор содержит все элементы обоих множеств , дубликаты удаляются\n",
    "print(a|b)"
   ]
  },
  {
   "cell_type": "code",
   "execution_count": 16,
   "metadata": {},
   "outputs": [
    {
     "name": "stdout",
     "output_type": "stream",
     "text": [
      "{'6', '5'}\n"
     ]
    }
   ],
   "source": [
    "#И - полученный набор содержит все пересекающиеся элементы обоих множеств , дубликаты удаляются\n",
    "print(a&b)"
   ]
  },
  {
   "cell_type": "code",
   "execution_count": 20,
   "metadata": {},
   "outputs": [
    {
     "name": "stdout",
     "output_type": "stream",
     "text": [
      "{'1', '3', '4', '2'}\n"
     ]
    }
   ],
   "source": [
    "#\"-\" - полученный набор содержит все пересекающиеся элементы ппервого множества, удалены элементы множества \"b\" , дубликаты удаляются\n",
    "print(a-b)"
   ]
  },
  {
   "cell_type": "code",
   "execution_count": 22,
   "metadata": {},
   "outputs": [
    {
     "name": "stdout",
     "output_type": "stream",
     "text": [
      "{'7', '8', '3', '4', '2', '9', '1'}\n"
     ]
    }
   ],
   "source": [
    "#\"xor\" - полученный набор содержит все пересекающиеся элементы обоих множества присутствующме только во множествах , дубликаты удаляются\n",
    "print(a^b)"
   ]
  },
  {
   "cell_type": "markdown",
   "metadata": {},
   "source": [
    "#Последовательность"
   ]
  },
  {
   "cell_type": "code",
   "execution_count": 33,
   "metadata": {},
   "outputs": [
    {
     "data": {
      "text/html": [
       "<iframe width=\"300\" height=\"270\" src=\"img31.JPG\"></iframe>\n",
       "<li>Возрастает, неограничена, 5 член = 27</li>\n",
       "<li>Возрастает, ограничена, 5 член = -0.2</li>\n",
       "<li>Возрастает, неограничена, 5 член = 10**(1.2)-1</li>\n",
       "<li>Убывает, ограничена, 5 член = 1.04</li>\n"
      ],
      "text/plain": [
       "<IPython.core.display.HTML object>"
      ]
     },
     "metadata": {},
     "output_type": "display_data"
    }
   ],
   "source": [
    "# task 1\n",
    "%%HTML\n",
    "<iframe width=\"300\" height=\"270\" src=\"img31.JPG\"></iframe>\n",
    "<li>Возрастает, неограничена, 5 член = 27</li>\n",
    "<li>Возрастает, ограничена, 5 член = -0.2</li>\n",
    "<li>Возрастает, неограничена, 5 член = 10**(1.2)-1</li>\n",
    "<li>Убывает, ограничена, 5 член = 1.04</li>"
   ]
  },
  {
   "cell_type": "code",
   "execution_count": null,
   "metadata": {},
   "outputs": [],
   "source": [
    "#task 2\n"
   ]
  },
  {
   "cell_type": "code",
   "execution_count": null,
   "metadata": {},
   "outputs": [],
   "source": [
    "#task 3\n",
    "from math import factorial, sqrt\n",
    "from decimal import Decimal\n",
    "\n",
    "acc = 10**(-7)\n",
    "\n",
    "def f(n):\n",
    "    return n/factorial(n)**(1/n)\n",
    "\n",
    "#Факториал 171 становится слишком большим ...\n",
    "\n",
    "i = 2\n",
    "while f(i)-f(i-1)>acc:\n",
    "    print(i)\n",
    "    i += 1\n",
    "    \n"
   ]
  }
 ],
 "metadata": {
  "kernelspec": {
   "display_name": "Python 3",
   "language": "python",
   "name": "python3"
  },
  "language_info": {
   "codemirror_mode": {
    "name": "ipython",
    "version": 3
   },
   "file_extension": ".py",
   "mimetype": "text/x-python",
   "name": "python",
   "nbconvert_exporter": "python",
   "pygments_lexer": "ipython3",
   "version": "3.7.3"
  }
 },
 "nbformat": 4,
 "nbformat_minor": 2
}
