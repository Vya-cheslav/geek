{
 "cells": [
  {
   "cell_type": "code",
   "execution_count": 1,
   "metadata": {},
   "outputs": [],
   "source": [
    "#import math \n",
    "import numpy as np\n",
    "import matplotlib.pyplot as plt\n",
    "%matplotlib inline"
   ]
  },
  {
   "cell_type": "code",
   "execution_count": 2,
   "metadata": {},
   "outputs": [],
   "source": [
    "def average(arr, arr2 = []):\n",
    "    n = len(arr)\n",
    "    if n == 0:\n",
    "        return 0\n",
    "    s = 0\n",
    "    for idx,i in enumerate(arr):\n",
    "        i2 = 1 if len(arr2) == 0 else arr2[idx]\n",
    "        s += i * i2 \n",
    "    return s/n      "
   ]
  },
  {
   "cell_type": "code",
   "execution_count": 3,
   "metadata": {},
   "outputs": [],
   "source": [
    "def standard_deviation(arr, bias = False):\n",
    "    n = len(arr)-1 if bias == False else len(arr)    \n",
    "    if n == 0:\n",
    "        return 0\n",
    "    avr = average(arr)\n",
    "    s = 0\n",
    "    for i in arr:\n",
    "        s += (i-avr)**2\n",
    "    return (s/n)**0.5  "
   ]
  },
  {
   "cell_type": "code",
   "execution_count": 4,
   "metadata": {},
   "outputs": [],
   "source": [
    "def dispersion_biased(arr):\n",
    "    return standard_deviation(arr)**2"
   ]
  },
  {
   "cell_type": "code",
   "execution_count": 5,
   "metadata": {},
   "outputs": [],
   "source": [
    "def variance_is_not_biased(arr):\n",
    "    return standard_deviation(arr, True)**2"
   ]
  },
  {
   "cell_type": "markdown",
   "metadata": {},
   "source": [
    "Провести дисперсионный анализ для определения того, есть ли различия среднего роста среди взрослых футболистов, хоккеистов и штангистов. Даны значения роста в трех группах случайно выбранных спортсменов: Футболисты: 173, 175, 180, 178, 177, 185, 183, 182. Хоккеисты: 177, 179, 180, 188, 177, 172, 171, 184, 180. Штангисты: 172, 173, 169, 177, 166, 180, 178, 177, 172, 166, 170.\n",
    "Прикрепить ссылку на курсовой проект на github. (см. выбор темы в ДЗ к Уроку 6)"
   ]
  },
  {
   "cell_type": "code",
   "execution_count": 10,
   "metadata": {},
   "outputs": [
    {
     "data": {
      "text/plain": [
       "[830.9642857142854,\n",
       " 830.964285714286,\n",
       " 30.776455026455015,\n",
       " 126.9537337662339,\n",
       " 23.08227272727273,\n",
       " 5.500053450812598]"
      ]
     },
     "execution_count": 10,
     "metadata": {},
     "output_type": "execute_result"
    }
   ],
   "source": [
    "f=np.array([173, 175, 180, 178, 177, 185, 183, 182])\n",
    "h=np.array([177, 179, 180, 188, 177, 172, 171, 184, 180])\n",
    "w=np.array([172, 173, 169, 177, 166, 180, 178, 177, 172, 166, 170])\n",
    "k=3\n",
    "nf=len(f)\n",
    "nh=len(h)\n",
    "nw=len(w)\n",
    "n=len(np.concatenate((f,h,w)))\n",
    "y_avg_f=average(f)\n",
    "y_avg_h=average(h)\n",
    "y_avg_w=average(w)\n",
    "Y_avg = average(np.concatenate((f,h,w)) )\n",
    "#S_pow=(np.sum(f)-Y_avg)**2+(np.sum(h)-Y_avg)**2+(np.sum(w)-Y_avg)**2\n",
    "S_pow=np.sum((np.concatenate((f,h,w)) - Y_avg)**2)\n",
    "#s2_f =  (y_avg_f - Y_avg)**2 * nf + (y_avg_h - Y_avg)**2 * nh + (y_avg_w - Y_avg)**2 * nw\n",
    "S_pow_f=(y_avg_f-  Y_avg)**2*  nf + (y_avg_h  -Y_avg)**2 * nh + (y_avg_w-Y_avg)**2*nw\n",
    "S_pow_ost = np.sum((f - y_avg_f)**2) + np.sum((h - y_avg_h)**2) + np.sum((w - y_avg_w)**2)\n",
    "[S_pow, S_pow_f+S_pow_ost]\n",
    "sigma2_general = S_pow / (nf+nh+nw - 1)\n",
    "sigma2_f = S_pow_f / (k - 1)\n",
    "sigma2_ost = S_pow_ost / (n - k)\n",
    "F_h = sigma2_f / sigma2_ost\n",
    "\n",
    "[S_pow, S_pow_f+S_pow_ost,sigma2_general,sigma2_f,sigma2_ost,F_h]"
   ]
  },
  {
   "cell_type": "code",
   "execution_count": 11,
   "metadata": {},
   "outputs": [
    {
     "name": "stdout",
     "output_type": "stream",
     "text": [
      "так как F крит = 4.24 и < Fн равное 5.500053450812598, различия среднего роста в трех группах статистически значимо\n"
     ]
    }
   ],
   "source": [
    "F_крит=4.24\n",
    "F_h\n",
    "print(f'так как F крит = {F_крит} и < Fн равное {F_h}, различия среднего роста в трех группах статистически значимо')"
   ]
  }
 ],
 "metadata": {
  "kernelspec": {
   "display_name": "Python 3",
   "language": "python",
   "name": "python3"
  },
  "language_info": {
   "codemirror_mode": {
    "name": "ipython",
    "version": 3
   },
   "file_extension": ".py",
   "mimetype": "text/x-python",
   "name": "python",
   "nbconvert_exporter": "python",
   "pygments_lexer": "ipython3",
   "version": "3.7.3"
  }
 },
 "nbformat": 4,
 "nbformat_minor": 2
}
