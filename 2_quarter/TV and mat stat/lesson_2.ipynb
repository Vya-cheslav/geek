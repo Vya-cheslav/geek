{
 "cells": [
  {
   "cell_type": "code",
   "execution_count": 1,
   "metadata": {},
   "outputs": [],
   "source": [
    "import math "
   ]
  },
  {
   "cell_type": "markdown",
   "metadata": {},
   "source": [
    "1. Вероятность того, что стрелок попадет в мишень, выстрелив один раз, равна 0.8. Стрелок выстрелил 100 раз. Найдите вероятность того, что стрелок попадет в цель ровно 85 раз."
   ]
  },
  {
   "cell_type": "code",
   "execution_count": 2,
   "metadata": {},
   "outputs": [
    {
     "name": "stdout",
     "output_type": "stream",
     "text": [
      "Вероятность того, что стрелок попадет в цель ровно 85 раз = 0.0481\n"
     ]
    }
   ],
   "source": [
    "#Необходимо вычислить полную вероятность С из 100 по 85, а так же веротность ненаступления события q \n",
    "P = math.factorial(100)/(math.factorial(85)*math.factorial((100-85)))* (0.8**85)* (0.2**15)\n",
    "print(f'Вероятность того, что стрелок попадет в цель ровно 85 раз = {round(P,4)}')"
   ]
  },
  {
   "cell_type": "markdown",
   "metadata": {},
   "source": [
    "2. Вероятность того, что лампочка перегорит в течение первого дня эксплуатации, равна 0.0004. В жилом комплексе после ремонта в один день включили 5000 новых лампочек. Какова вероятность, что ни одна из них не перегорит в первый день? Какова вероятность, что перегорят ровно две?"
   ]
  },
  {
   "cell_type": "code",
   "execution_count": 3,
   "metadata": {},
   "outputs": [
    {
     "name": "stdout",
     "output_type": "stream",
     "text": [
      "a) Вероятность, что ни одна из ламп не перегорит в первый день = 0.0\n",
      "b) Вероятность, что перегорят ровно две лампы = 0.5\n"
     ]
    }
   ],
   "source": [
    "#Используем распределение Пуасона, так как вероятность появления события очень мала\n",
    "m=5000 \n",
    "n=5000\n",
    "lyamda = int(0.0004*5000)\n",
    "e = 2.72\n",
    "P = lyamda**m/math.factorial(m)*lyamda**(-2)\n",
    "print(f'a) Вероятность, что ни одна из ламп не перегорит в первый день = {round(P,4)}')\n",
    "m=2 \n",
    "P = lyamda**m/math.factorial(m)*lyamda**(-2)\n",
    "print(f'b) Вероятность, что перегорят ровно две лампы = {round(P,4)}')"
   ]
  },
  {
   "cell_type": "markdown",
   "metadata": {},
   "source": [
    "3. Монету подбросили 144 раза. Какова вероятность, что орел выпадет ровно 70 раз?"
   ]
  },
  {
   "cell_type": "code",
   "execution_count": 4,
   "metadata": {},
   "outputs": [
    {
     "name": "stdout",
     "output_type": "stream",
     "text": [
      "Вероятность, что орел выпадет ровно 70 раз = 0.0628\n"
     ]
    }
   ],
   "source": [
    "#Используя формулу Бернули\n",
    "n=0.5**144 # вероятность выпадения орла в броске 0.5 \n",
    "m=math.factorial(144)/(math.factorial(70)*math.factorial(74))\n",
    "P=m*n\n",
    "print(f'Вероятность, что орел выпадет ровно 70 раз = {round(P,4)}')"
   ]
  },
  {
   "cell_type": "markdown",
   "metadata": {},
   "source": [
    "4. В первом ящике находится 10 мячей, из которых 7 - белые. Во втором ящике - 11 мячей, из которых 9 белых. Из каждого ящика вытаскивают случайным образом по два мяча. Какова вероятность того, что все мячи белые? Какова вероятность того, что ровно два мяча белые? Какова вероятность того, что хотя бы один мяч белый?"
   ]
  },
  {
   "cell_type": "code",
   "execution_count": 5,
   "metadata": {},
   "outputs": [
    {
     "name": "stdout",
     "output_type": "stream",
     "text": [
      "Вероятность того, что все мячи белые = 0.375\n"
     ]
    }
   ],
   "source": [
    "#a)\n",
    "#Количество всех исходов\n",
    "C1 = math.factorial(10)/(math.factorial(7)*math.factorial(3))*math.factorial(11)/(math.factorial(9)*math.factorial(2))\n",
    "#Количество благопритных\n",
    "C2 = math.factorial(10)/(math.factorial(2)*math.factorial(8))*math.factorial(11)/(math.factorial(2)*math.factorial(9))\n",
    "P = C2/C1\n",
    "print(f'Вероятность того, что все мячи белые = {round(P,4)}')"
   ]
  }
 ],
 "metadata": {
  "kernelspec": {
   "display_name": "Python 3",
   "language": "python",
   "name": "python3"
  },
  "language_info": {
   "codemirror_mode": {
    "name": "ipython",
    "version": 3
   },
   "file_extension": ".py",
   "mimetype": "text/x-python",
   "name": "python",
   "nbconvert_exporter": "python",
   "pygments_lexer": "ipython3",
   "version": "3.7.3"
  }
 },
 "nbformat": 4,
 "nbformat_minor": 2
}
