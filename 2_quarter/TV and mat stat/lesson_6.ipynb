{
 "cells": [
  {
   "cell_type": "code",
   "execution_count": 1,
   "metadata": {},
   "outputs": [],
   "source": [
    "#import math \n",
    "import numpy as np"
   ]
  },
  {
   "cell_type": "code",
   "execution_count": 2,
   "metadata": {},
   "outputs": [],
   "source": [
    "def average(arr, arr2 = []):\n",
    "    n = len(arr)\n",
    "    if n == 0:\n",
    "        return 0\n",
    "    s = 0\n",
    "    for idx,i in enumerate(arr):\n",
    "        i2 = 1 if len(arr2) == 0 else arr2[idx]\n",
    "        s += i * i2 \n",
    "    return s/n      "
   ]
  },
  {
   "cell_type": "code",
   "execution_count": 3,
   "metadata": {},
   "outputs": [],
   "source": [
    "def standard_deviation(arr, bias = False):\n",
    "    n = len(arr)-1 if bias == False else len(arr)    \n",
    "    if n == 0:\n",
    "        return 0\n",
    "    avr = average(arr)\n",
    "    s = 0\n",
    "    for i in arr:\n",
    "        s += (i-avr)**2\n",
    "    return (s/n)**0.5  "
   ]
  },
  {
   "cell_type": "code",
   "execution_count": 4,
   "metadata": {},
   "outputs": [],
   "source": [
    "def dispersion_biased(arr):\n",
    "    return standard_deviation(arr)**2"
   ]
  },
  {
   "cell_type": "code",
   "execution_count": 5,
   "metadata": {},
   "outputs": [],
   "source": [
    "def variance_is_not_biased(arr):\n",
    "    return standard_deviation(arr, True)**2"
   ]
  },
  {
   "cell_type": "markdown",
   "metadata": {},
   "source": [
    "1.аны значения величины заработной платы заемщиков банка (zp) и значения их поведенческого кредитного скоринга (ks):\n",
    "zp = [35, 45, 190, 200, 40, 70, 54, 150, 120, 110],\n",
    "ks = [401, 574, 874, 919, 459, 739, 653, 902, 746, 832].\n",
    "Найдите ковариацию этих двух величин с помощью элементарных действий, а затем с помощью функции cov из numpy\n",
    "Полученные значения должны быть равны.\n",
    "Найдите коэффициент корреляции Пирсона с помощью ковариации и среднеквадратичных отклонений двух признаков,\n",
    "а затем с использованием функций из библиотек numpy и pandas."
   ]
  },
  {
   "cell_type": "code",
   "execution_count": 6,
   "metadata": {},
   "outputs": [
    {
     "name": "stdout",
     "output_type": "stream",
     "text": [
      "Ковариация найдена тремя способами : [9157.84, 9157.84, 9157.84] и значения равны\n",
      "Найден коэфициент корреляции Пирсона и он = 0.7987410828665246\n"
     ]
    }
   ],
   "source": [
    "zp = np.array([35,45,190,200,40,70,54,150,120,110])\n",
    "ks = np.array([401,574,874,919,459,739,653,902,746,832])\n",
    "cov1 = round(np.mean(zp*ks)-np.mean(zp)*np.mean(ks),2)\n",
    "cov2 = round(average(zp,ks)-average(zp)*average(ks),2)\n",
    "cov3 = np.cov(zp,ks, ddof=0)[0][1]\n",
    "r = cov2/(standard_deviation(zp)*standard_deviation(ks))\n",
    "print(f'Ковариация найдена тремя способами : {[cov1, cov2, cov3]} и значения {\"равны\" if cov1 == cov2 == cov3 else \"не равны\"}')\n",
    "print(f'Найден коэфициент корреляции Пирсона и он = {r}')"
   ]
  },
  {
   "cell_type": "markdown",
   "metadata": {},
   "source": [
    "2.Измерены значения IQ выборки студентов,\n",
    "обучающихся в местных технических вузах:\n",
    "131, 125, 115, 122, 131, 115, 107, 99, 125, 111.\n",
    "Известно, что в генеральной совокупности IQ распределен нормально.\n",
    "Найдите доверительный интервал для математического ожидания с надежностью 0.95."
   ]
  },
  {
   "cell_type": "code",
   "execution_count": 7,
   "metadata": {},
   "outputs": [
    {
     "name": "stdout",
     "output_type": "stream",
     "text": [
      "[110.52575930887461;126.47424069112539]\n"
     ]
    }
   ],
   "source": [
    "#Дисперсия известна, выбираем Z критерий\n",
    "arr = [135,125,115,122,131,115,107,99,125,111]\n",
    "n=len(arr)\n",
    "std = standard_deviation(arr)\n",
    "M = average(arr)\n",
    "t_T=2.262\n",
    "print(f'[{M-t_T*(std/n**0.5)};{M+t_T*(std/n**0.5)}]')"
   ]
  },
  {
   "cell_type": "markdown",
   "metadata": {},
   "source": [
    "3.Известно, что рост футболистов в сборной распределен нормально\n",
    "с дисперсией генеральной совокупности, равной 25 кв.см. Объем выборки равен 27,\n",
    "среднее выборочное составляет 174.2. Найдите доверительный интервал для математического\n",
    "ожидания с надежностью 0.95."
   ]
  },
  {
   "cell_type": "code",
   "execution_count": 8,
   "metadata": {},
   "outputs": [
    {
     "name": "stdout",
     "output_type": "stream",
     "text": [
      "[172.31398912064722;176.08601087935276]\n"
     ]
    }
   ],
   "source": [
    "#Дисперсия неизвестна, выбираем t критерий\n",
    "n=27\n",
    "std = 5\n",
    "M = 174.2\n",
    "Z_a2 = 1.96\n",
    "print(f'[{M-Z_a2*(std/n**0.5)};{M+Z_a2*(std/n**0.5)}]')"
   ]
  },
  {
   "cell_type": "markdown",
   "metadata": {},
   "source": [
    "4.Беру курсовой по анализу валют"
   ]
  }
 ],
 "metadata": {
  "kernelspec": {
   "display_name": "Python 3",
   "language": "python",
   "name": "python3"
  },
  "language_info": {
   "codemirror_mode": {
    "name": "ipython",
    "version": 3
   },
   "file_extension": ".py",
   "mimetype": "text/x-python",
   "name": "python",
   "nbconvert_exporter": "python",
   "pygments_lexer": "ipython3",
   "version": "3.7.3"
  }
 },
 "nbformat": 4,
 "nbformat_minor": 2
}
