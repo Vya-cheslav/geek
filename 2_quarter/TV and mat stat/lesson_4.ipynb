{
 "cells": [
  {
   "cell_type": "code",
   "execution_count": 1,
   "metadata": {},
   "outputs": [],
   "source": [
    "#import math "
   ]
  },
  {
   "cell_type": "code",
   "execution_count": 2,
   "metadata": {},
   "outputs": [],
   "source": [
    "def average(arr):\n",
    "    n = len(arr)\n",
    "    if n == 0:\n",
    "        return 0\n",
    "    s = 0\n",
    "    for i in arr:\n",
    "        s += i\n",
    "    return s/n      "
   ]
  },
  {
   "cell_type": "code",
   "execution_count": 3,
   "metadata": {},
   "outputs": [],
   "source": [
    "def standard_deviation(arr, bias = False):\n",
    "    n = len(arr)-1 if bias == True else len(arr)    \n",
    "    if n == 0:\n",
    "        return 0\n",
    "    avr = average(arr)\n",
    "    s = 0\n",
    "    for i in arr:\n",
    "        s += (i-avr)**2\n",
    "    return (s/n)**0.5  "
   ]
  },
  {
   "cell_type": "code",
   "execution_count": 4,
   "metadata": {},
   "outputs": [],
   "source": [
    "def dispersion_biased(arr):\n",
    "    return standard_deviation(arr)**2"
   ]
  },
  {
   "cell_type": "code",
   "execution_count": 5,
   "metadata": {},
   "outputs": [],
   "source": [
    "def variance_is_not_biased(arr):\n",
    "    return standard_deviation(arr, True)**2"
   ]
  },
  {
   "cell_type": "markdown",
   "metadata": {},
   "source": [
    "1.Случайная непрерывная величина A имеет равномерное распределение на промежутке (200, 800]. \n",
    "Найдите ее среднее значение и дисперсию."
   ]
  },
  {
   "cell_type": "code",
   "execution_count": 6,
   "metadata": {},
   "outputs": [
    {
     "name": "stdout",
     "output_type": "stream",
     "text": [
      "Cреднее значение 500.0\n",
      "Дисперсия 30000.0\n"
     ]
    }
   ],
   "source": [
    "A = [200,800]\n",
    "x = average(A)\n",
    "d = (800-200)**2/12\n",
    "print(f'Cреднее значение {x}')\n",
    "print(f'Дисперсия {d}')"
   ]
  },
  {
   "cell_type": "markdown",
   "metadata": {},
   "source": [
    "2. О случайной непрерывной равномерно распределенной величине B известно, что ее дисперсия равна 0.2.\n",
    "Можно ли найти правую границу величины B и ее среднее значение зная, что левая граница равна 0.5?\n",
    "Если да, найдите ее."
   ]
  },
  {
   "cell_type": "code",
   "execution_count": 7,
   "metadata": {},
   "outputs": [
    {
     "name": "stdout",
     "output_type": "stream",
     "text": [
      "Правая граница = 0.9472135954999579\n"
     ]
    }
   ],
   "source": [
    "d = 0.2\n",
    "#так как среднеквадратичное отклонение это корень из дисперсии, то \n",
    "std = d**0.5\n",
    "#левая граница = 0.5\n",
    "l = 0.5\n",
    "#что бы получить правую границу , мы должны добавить к левой std\n",
    "r = l + std\n",
    "print(f'Правая граница = {r}')"
   ]
  },
  {
   "cell_type": "markdown",
   "metadata": {},
   "source": [
    "3. Непрерывная случайная величина X распределена нормально и задана плотностью распределения\n",
    "f(x) = (1 / (4 * sqrt(2*pi))) * exp(-((x+2)**2) / 32).\n",
    "Найдите:\n",
    "а). M(X)\n",
    "б). D(X)\n",
    "в). std(X) (среднее квадратичное отклонение)"
   ]
  },
  {
   "cell_type": "code",
   "execution_count": 8,
   "metadata": {},
   "outputs": [
    {
     "name": "stdout",
     "output_type": "stream",
     "text": [
      "а). M(X) = 2\n",
      "б). D(X) = 16\n",
      "в). std(X) (среднее квадратичное отклонение) = 4\n"
     ]
    }
   ],
   "source": [
    "print('а). M(X) = 2')\n",
    "print('б). D(X) = 16')\n",
    "print('в). std(X) (среднее квадратичное отклонение) = 4')"
   ]
  },
  {
   "cell_type": "markdown",
   "metadata": {},
   "source": [
    "4.Рост взрослого населения города X имеет нормальное распределение.\n",
    "Причем, средний рост равен 174 см, а среднее квадратичное отклонение равно 8 см.\n",
    "Какова вероятность того, что случайным образом выбранный взрослый человек имеет рост:\n",
    "а). больше 182 см\n",
    "б). больше 190 см\n",
    "в). от 166 см до 190 см\n",
    "г). от 166 см до 182 см\n",
    "д). от 158 см до 190 см\n",
    "е). не выше 150 см или не ниже 190 см\n",
    "ё). не выше 150 см или не ниже 198 см\n",
    "ж). ниже 166 см."
   ]
  },
  {
   "cell_type": "code",
   "execution_count": 9,
   "metadata": {},
   "outputs": [
    {
     "name": "stdout",
     "output_type": "stream",
     "text": [
      "Вероятности при :\n",
      "а). больше 182 см = 16.0\n",
      "б). больше 190 см = 2.3000000000000003\n",
      "в). от 166 см до 190 см = 81.7\n",
      "г). от 166 см до 182 см = 68\n",
      "д). от 158 см до 190 см = 95.4\n",
      "е). не выше 150 см или не ниже 190 см = 2.4400000000000004\n",
      "ё). не выше 150 см или не ниже 198 см = 0.28\n",
      "ж). ниже 166 см. = 16.0\n"
     ]
    }
   ],
   "source": [
    "sigm1 = 34\n",
    "sigm2 = 13.7\n",
    "sigm3 = 2.16\n",
    "sigm4 = 0.14\n",
    "print(f'Вероятности при :')\n",
    "print(f'а). больше 182 см = {sigm2+sigm3+sigm4}')\n",
    "print(f'б). больше 190 см = {sigm3+sigm4}') \n",
    "print(f'в). от 166 см до 190 см = {sigm1+sigm1+sigm2}') \n",
    "print(f'г). от 166 см до 182 см = {sigm1*2}') \n",
    "print(f'д). от 158 см до 190 см = {sigm1*2+sigm2*2}') \n",
    "print(f'е). не выше 150 см или не ниже 190 см = {sigm4*2+sigm3}') \n",
    "print(f'ё). не выше 150 см или не ниже 198 см = {sigm4*2}') \n",
    "print(f'ж). ниже 166 см. = {sigm2+sigm3+sigm4}')"
   ]
  },
  {
   "cell_type": "markdown",
   "metadata": {},
   "source": [
    "5.На сколько сигм (средних квадратичных отклонений) отклоняется рост человека, равный 190 см, от\n",
    "математического ожидания роста в популяции, в которой M(X) = 178 см и D(X) = 25 кв.см?"
   ]
  },
  {
   "cell_type": "code",
   "execution_count": 10,
   "metadata": {},
   "outputs": [
    {
     "name": "stdout",
     "output_type": "stream",
     "text": [
      "Отклонение = 2.2 сигм\n"
     ]
    }
   ],
   "source": [
    "#std = D(X) ** 0.5\n",
    "std = 25**0.5\n",
    "M_X = 178\n",
    "r=190\n",
    "print(f'Отклонение = {round((r - M_X)/5)}.{(r - M_X)%5} сигм')"
   ]
  }
 ],
 "metadata": {
  "kernelspec": {
   "display_name": "Python 3",
   "language": "python",
   "name": "python3"
  },
  "language_info": {
   "codemirror_mode": {
    "name": "ipython",
    "version": 3
   },
   "file_extension": ".py",
   "mimetype": "text/x-python",
   "name": "python",
   "nbconvert_exporter": "python",
   "pygments_lexer": "ipython3",
   "version": "3.7.3"
  }
 },
 "nbformat": 4,
 "nbformat_minor": 2
}
