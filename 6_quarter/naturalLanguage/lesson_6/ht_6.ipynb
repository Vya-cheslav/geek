{
 "cells": [
  {
   "cell_type": "code",
   "execution_count": 5,
   "metadata": {},
   "outputs": [],
   "source": [
    "import pandas as pd\n",
    "from string import punctuation\n",
    "from stop_words import get_stop_words\n",
    "from pymorphy2 import MorphAnalyzer\n",
    "import re\n",
    "\n",
    "df_val = pd.read_excel(\"отзывы за лето.xls\")"
   ]
  },
  {
   "cell_type": "code",
   "execution_count": 6,
   "metadata": {},
   "outputs": [],
   "source": [
    "sw = set(get_stop_words(\"ru\"))\n",
    "exclude = set(punctuation)\n",
    "morpher = MorphAnalyzer()\n",
    "\n",
    "def preprocess_text(txt):\n",
    "    txt = str(txt)\n",
    "    txt = \"\".join(c for c in txt if c not in exclude)\n",
    "    txt = txt.lower()\n",
    "    txt = re.sub(\"\\sне\", \"не\", txt)\n",
    "    txt = [morpher.parse(word)[0].normal_form for word in txt.split() if word not in sw]\n",
    "    return \" \".join(txt)\n",
    "\n",
    "df_val['Content'] = df_val['Content'].apply(preprocess_text)\n",
    "\n",
    "df_train = df_val[:16000]\n",
    "df_test  = df_val[16000:]"
   ]
  },
  {
   "cell_type": "code",
   "execution_count": 7,
   "metadata": {},
   "outputs": [],
   "source": [
    "import numpy as np\n",
    "import keras\n",
    "from keras.models import Sequential, Model\n",
    "from keras.layers import Dense, Dropout, Activation, Input, Embedding, Conv1D, GlobalMaxPool1D, SimpleRNN, LSTM, GRU, Masking\n",
    "from keras.preprocessing.text import Tokenizer\n",
    "from keras.preprocessing.sequence import pad_sequences\n",
    "from keras.callbacks import TensorBoard \n",
    "from keras.objectives import categorical_crossentropy\n",
    "from keras.callbacks import EarlyStopping  "
   ]
  },
  {
   "cell_type": "code",
   "execution_count": 8,
   "metadata": {},
   "outputs": [],
   "source": [
    "text_corpus_train = df_train['Content'].values\n",
    "text_corpus_valid = df_val['Content'].values\n",
    "text_corpus_test = df_test['Content'].values"
   ]
  },
  {
   "cell_type": "code",
   "execution_count": 9,
   "metadata": {},
   "outputs": [],
   "source": [
    "tokenizer = Tokenizer(num_words=None, \n",
    "                     filters='#$%&()*+-<=>@[\\\\]^_`{|}~\\t\\n',\n",
    "                     lower = False, split = ' ')\n",
    "tokenizer.fit_on_texts(text_corpus_train)\n",
    "\n",
    "sequences_train = tokenizer.texts_to_sequences(text_corpus_train)\n",
    "sequences_val = tokenizer.texts_to_sequences(text_corpus_valid)\n",
    "sequences_test = tokenizer.texts_to_sequences(text_corpus_test)\n",
    "\n",
    "word_count = len(tokenizer.index_word) + 1\n",
    "training_length = max([len(i.split()) for i in text_corpus_train])\n",
    "\n",
    "X_train = pad_sequences(sequences_train, maxlen=training_length)\n",
    "X_valid = pad_sequences(sequences_val, maxlen=training_length)"
   ]
  },
  {
   "cell_type": "code",
   "execution_count": 12,
   "metadata": {},
   "outputs": [],
   "source": [
    "y_train = df_train['Rating'].values\n",
    "y_val = df_val['Rating'].values"
   ]
  },
  {
   "cell_type": "markdown",
   "metadata": {},
   "source": [
    "## Рекурентные сети"
   ]
  },
  {
   "cell_type": "code",
   "execution_count": 13,
   "metadata": {},
   "outputs": [],
   "source": [
    "model = Sequential()\n",
    "\n",
    "model.add(\n",
    "    Embedding(input_dim=word_count,\n",
    "              input_length=training_length,\n",
    "              output_dim=30,\n",
    "              trainable=True,\n",
    "              mask_zero=True))\n",
    "model.add(Masking(mask_value=0.0))\n",
    "\n",
    "model.add(SimpleRNN(64))\n",
    "model.add(Dense(64, activation='relu'))\n",
    "model.add(Dropout(0.5))\n",
    "model.add(Dense(1, activation='sigmoid'))\n",
    "\n",
    "model.compile(\n",
    "    optimizer='adam', loss='binary_crossentropy', metrics=['accuracy'])"
   ]
  },
  {
   "cell_type": "code",
   "execution_count": 14,
   "metadata": {},
   "outputs": [
    {
     "name": "stdout",
     "output_type": "stream",
     "text": [
      "Epoch 1/10\n",
      "29/29 [==============================] - 9s 299ms/step - loss: -14.5308 - accuracy: 0.0887 - val_loss: -37.6209 - val_accuracy: 0.0969\n",
      "Epoch 2/10\n",
      "29/29 [==============================] - 7s 257ms/step - loss: -66.4503 - accuracy: 0.0903 - val_loss: -102.3140 - val_accuracy: 0.0969\n",
      "Epoch 3/10\n",
      "29/29 [==============================] - 7s 236ms/step - loss: -142.7063 - accuracy: 0.0903 - val_loss: -191.5661 - val_accuracy: 0.0969\n",
      "Epoch 4/10\n",
      "29/29 [==============================] - 7s 238ms/step - loss: -245.8813 - accuracy: 0.0903 - val_loss: -307.9476 - val_accuracy: 0.0969\n",
      "Epoch 5/10\n",
      "29/29 [==============================] - 7s 248ms/step - loss: -376.1599 - accuracy: 0.0903 - val_loss: -452.8036 - val_accuracy: 0.0969\n",
      "Epoch 6/10\n",
      "29/29 [==============================] - 8s 264ms/step - loss: -536.4969 - accuracy: 0.0903 - val_loss: -626.9370 - val_accuracy: 0.0969\n",
      "Epoch 7/10\n",
      "29/29 [==============================] - 7s 230ms/step - loss: -728.2239 - accuracy: 0.0903 - val_loss: -831.2137 - val_accuracy: 0.0969\n",
      "Epoch 8/10\n",
      "29/29 [==============================] - 9s 304ms/step - loss: -945.6654 - accuracy: 0.0903 - val_loss: -1064.4351 - val_accuracy: 0.0969\n",
      "Epoch 9/10\n",
      "29/29 [==============================] - 6s 203ms/step - loss: -1195.2667 - accuracy: 0.0903 - val_loss: -1327.5050 - val_accuracy: 0.0969\n",
      "Epoch 10/10\n",
      "29/29 [==============================] - 6s 198ms/step - loss: -1476.6942 - accuracy: 0.0903 - val_loss: -1620.7625 - val_accuracy: 0.0969\n"
     ]
    }
   ],
   "source": [
    "early_stopping=EarlyStopping(monitor='val_loss')  \n",
    "\n",
    "\n",
    "history = model.fit(X_train, y_train,\n",
    "                    batch_size=512,\n",
    "                    epochs=10,\n",
    "                    verbose=1,\n",
    "                    validation_split=0.1,\n",
    "                    callbacks=[early_stopping])"
   ]
  },
  {
   "cell_type": "code",
   "execution_count": 15,
   "metadata": {},
   "outputs": [
    {
     "name": "stdout",
     "output_type": "stream",
     "text": [
      "41/41 [==============================] - 3s 80ms/step - loss: -1592.7906 - accuracy: 0.1102\n",
      "\n",
      "\n",
      "Test score: -1592.7906494140625\n",
      "Test accuracy: 0.1101699024438858\n"
     ]
    }
   ],
   "source": [
    "score = model.evaluate(X_valid, y_val, batch_size=512, verbose=1)\n",
    "print('\\n')\n",
    "print('Test score:', score[0])\n",
    "print('Test accuracy:', score[1])"
   ]
  },
  {
   "cell_type": "markdown",
   "metadata": {},
   "source": [
    "## LSTM"
   ]
  },
  {
   "cell_type": "code",
   "execution_count": 16,
   "metadata": {},
   "outputs": [
    {
     "name": "stdout",
     "output_type": "stream",
     "text": [
      "Epoch 1/10\n",
      "29/29 [==============================] - 18s 605ms/step - loss: -8.1474 - accuracy: 0.0870 - val_loss: -27.4752 - val_accuracy: 0.0969\n",
      "Epoch 2/10\n",
      "29/29 [==============================] - 20s 693ms/step - loss: -54.2874 - accuracy: 0.0903 - val_loss: -87.8841 - val_accuracy: 0.0969\n",
      "Epoch 3/10\n",
      "29/29 [==============================] - 16s 544ms/step - loss: -123.4471 - accuracy: 0.0903 - val_loss: -164.9367 - val_accuracy: 0.0969\n",
      "Epoch 4/10\n",
      "29/29 [==============================] - 18s 610ms/step - loss: -209.7395 - accuracy: 0.0903 - val_loss: -260.4126 - val_accuracy: 0.0969\n",
      "Epoch 5/10\n",
      "29/29 [==============================] - 24s 822ms/step - loss: -315.5128 - accuracy: 0.0903 - val_loss: -375.9914 - val_accuracy: 0.0969\n",
      "Epoch 6/10\n",
      "29/29 [==============================] - 20s 673ms/step - loss: -441.7835 - accuracy: 0.0903 - val_loss: -512.9421 - val_accuracy: 0.0969\n",
      "Epoch 7/10\n",
      "29/29 [==============================] - 16s 560ms/step - loss: -589.9415 - accuracy: 0.0903 - val_loss: -671.2327 - val_accuracy: 0.0969\n",
      "Epoch 8/10\n",
      "29/29 [==============================] - 16s 549ms/step - loss: -762.7433 - accuracy: 0.0903 - val_loss: -852.0178 - val_accuracy: 0.0969\n",
      "Epoch 9/10\n",
      "29/29 [==============================] - 16s 546ms/step - loss: -953.4954 - accuracy: 0.0903 - val_loss: -1054.7030 - val_accuracy: 0.0969\n",
      "Epoch 10/10\n",
      "29/29 [==============================] - 18s 619ms/step - loss: -1166.7582 - accuracy: 0.0903 - val_loss: -1278.4467 - val_accuracy: 0.0969\n"
     ]
    }
   ],
   "source": [
    "model = Sequential()\n",
    "\n",
    "model.add(\n",
    "    Embedding(input_dim=word_count,\n",
    "              input_length=training_length,\n",
    "              output_dim=30,\n",
    "              trainable=True,\n",
    "              mask_zero=True))\n",
    "model.add(Masking(mask_value=0.0))\n",
    "model.add(LSTM(64, recurrent_dropout=0.2))\n",
    "model.add(Dense(64, activation='relu'))\n",
    "model.add(Dropout(0.5))\n",
    "model.add(Dense(1, activation='sigmoid'))\n",
    "\n",
    "model.compile(\n",
    "    optimizer='adam', loss='binary_crossentropy', metrics=['accuracy'])\n",
    "\n",
    "early_stopping=EarlyStopping(monitor='val_loss')  \n",
    "\n",
    "\n",
    "history = model.fit(X_train, y_train,\n",
    "                    batch_size=512,\n",
    "                    epochs=10,\n",
    "                    verbose=1,\n",
    "                    validation_split=0.1,\n",
    "                    callbacks=[early_stopping])"
   ]
  },
  {
   "cell_type": "code",
   "execution_count": 17,
   "metadata": {},
   "outputs": [
    {
     "name": "stdout",
     "output_type": "stream",
     "text": [
      "41/41 [==============================] - 5s 129ms/step - loss: -1256.3944 - accuracy: 0.1102\n",
      "\n",
      "\n",
      "Test score: -1256.3944091796875\n",
      "Test accuracy: 0.1101699024438858\n"
     ]
    }
   ],
   "source": [
    "score = model.evaluate(X_valid, y_val, batch_size=512, verbose=1)\n",
    "print('\\n')\n",
    "print('Test score:', score[0])\n",
    "print('Test accuracy:', score[1])"
   ]
  },
  {
   "cell_type": "markdown",
   "metadata": {},
   "source": [
    "## GRU"
   ]
  },
  {
   "cell_type": "code",
   "execution_count": 18,
   "metadata": {},
   "outputs": [
    {
     "name": "stdout",
     "output_type": "stream",
     "text": [
      "Epoch 1/10\n",
      "29/29 [==============================] - 14s 485ms/step - loss: -7.2663 - accuracy: 0.0887 - val_loss: -48.7799 - val_accuracy: 0.0969\n",
      "Epoch 2/10\n",
      "29/29 [==============================] - 13s 462ms/step - loss: -92.1894 - accuracy: 0.0903 - val_loss: -139.8151 - val_accuracy: 0.0969\n",
      "Epoch 3/10\n",
      "29/29 [==============================] - 13s 463ms/step - loss: -189.7447 - accuracy: 0.0903 - val_loss: -247.4370 - val_accuracy: 0.0969\n",
      "Epoch 4/10\n",
      "29/29 [==============================] - 22s 762ms/step - loss: -311.4785 - accuracy: 0.0903 - val_loss: -381.6949 - val_accuracy: 0.0969\n",
      "Epoch 5/10\n",
      "29/29 [==============================] - 23s 796ms/step - loss: -458.2259 - accuracy: 0.0903 - val_loss: -543.9969 - val_accuracy: 0.0969\n",
      "Epoch 6/10\n",
      "29/29 [==============================] - 14s 479ms/step - loss: -638.6229 - accuracy: 0.0903 - val_loss: -736.4413 - val_accuracy: 0.0969\n",
      "Epoch 7/10\n",
      "29/29 [==============================] - 13s 454ms/step - loss: -848.1119 - accuracy: 0.0903 - val_loss: -959.7098 - val_accuracy: 0.0969\n",
      "Epoch 8/10\n",
      "29/29 [==============================] - 13s 464ms/step - loss: -1085.5206 - accuracy: 0.0903 - val_loss: -1212.8486 - val_accuracy: 0.0969\n",
      "Epoch 9/10\n",
      "29/29 [==============================] - 16s 549ms/step - loss: -1353.9573 - accuracy: 0.0903 - val_loss: -1497.6696 - val_accuracy: 0.0969\n",
      "Epoch 10/10\n",
      "29/29 [==============================] - 16s 537ms/step - loss: -1660.2609 - accuracy: 0.0903 - val_loss: -1813.4078 - val_accuracy: 0.0969\n"
     ]
    }
   ],
   "source": [
    "model = Sequential()\n",
    "\n",
    "model.add(\n",
    "    Embedding(input_dim=word_count,\n",
    "              input_length=training_length,\n",
    "              output_dim=30,\n",
    "              trainable=True,\n",
    "              mask_zero=True))\n",
    "model.add(Masking(mask_value=0.0))\n",
    "model.add(GRU(64, recurrent_dropout=0.2))\n",
    "model.add(Dense(64, activation='relu'))\n",
    "model.add(Dropout(0.5))\n",
    "model.add(Dense(1, activation='sigmoid'))\n",
    "\n",
    "model.compile(\n",
    "    optimizer='adam', loss='binary_crossentropy', metrics=['accuracy'])\n",
    "\n",
    "early_stopping=EarlyStopping(monitor='val_loss')  \n",
    "\n",
    "\n",
    "history = model.fit(X_train, y_train,\n",
    "                    batch_size=512,\n",
    "                    epochs=10,\n",
    "                    verbose=1,\n",
    "                    validation_split=0.1,\n",
    "                    callbacks=[early_stopping])"
   ]
  },
  {
   "cell_type": "code",
   "execution_count": 19,
   "metadata": {},
   "outputs": [
    {
     "name": "stdout",
     "output_type": "stream",
     "text": [
      "41/41 [==============================] - 6s 137ms/step - loss: -1782.1106 - accuracy: 0.1102\n",
      "\n",
      "\n",
      "Test score: -1782.110595703125\n",
      "Test accuracy: 0.1101699024438858\n"
     ]
    }
   ],
   "source": [
    "score = model.evaluate(X_valid, y_val, batch_size=512, verbose=1)\n",
    "print('\\n')\n",
    "print('Test score:', score[0])\n",
    "print('Test accuracy:', score[1])"
   ]
  }
 ],
 "metadata": {
  "kernelspec": {
   "display_name": "Python 3",
   "language": "python",
   "name": "python3"
  },
  "language_info": {
   "codemirror_mode": {
    "name": "ipython",
    "version": 3
   },
   "file_extension": ".py",
   "mimetype": "text/x-python",
   "name": "python",
   "nbconvert_exporter": "python",
   "pygments_lexer": "ipython3",
   "version": "3.8.3"
  }
 },
 "nbformat": 4,
 "nbformat_minor": 4
}
